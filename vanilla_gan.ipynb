{
 "cells": [
  {
   "cell_type": "markdown",
   "metadata": {},
   "source": [
    "### Import Libraries"
   ]
  },
  {
   "cell_type": "code",
   "execution_count": 1,
   "metadata": {},
   "outputs": [],
   "source": [
    "import torch \n",
    "import torch.nn as nn\n",
    "import torch.optim as optim \n",
    "import torch.nn.functional as F \n",
    "from torch.utils.data import DataLoader\n",
    "\n",
    "import torchvision.transforms as transforms\n",
    "import torchvision.datasets as datasets\n",
    "from torchvision.utils import make_grid, save_image\n",
    "\n",
    "import os\n",
    "import numpy as np \n",
    "import matplotlib.pyplot as plt"
   ]
  },
  {
   "cell_type": "markdown",
   "metadata": {},
   "source": [
    "### Learning Parameters"
   ]
  },
  {
   "cell_type": "code",
   "execution_count": 2,
   "metadata": {},
   "outputs": [],
   "source": [
    "batch_size = 512\n",
    "epochs = 2\n",
    "sample_size = 64 #fixed sample size\n",
    "flatten_image_size = 784\n",
    "nz = 128 # latent vector size \n",
    "k = 1 # no. of steps to apply to the discriminator\n",
    "lr = 1e-3\n",
    "device = torch.device('cuda' if torch.cuda.is_available() else 'cpu')"
   ]
  },
  {
   "cell_type": "markdown",
   "metadata": {},
   "source": [
    "### Preparing the Dataset"
   ]
  },
  {
   "cell_type": "code",
   "execution_count": 3,
   "metadata": {},
   "outputs": [],
   "source": [
    "transform = transforms.Compose([\n",
    "    transforms.ToTensor(),\n",
    "    transforms.Normalize((0.5,), (0.5,))\n",
    "])\n",
    "\n",
    "to_pil_image = transforms.ToPILImage() # This is required when we want to save the generated images as a .gif file.\n",
    "\n",
    "train_data = datasets.MNIST(\n",
    "    root='./input',\n",
    "    train=True,\n",
    "    download=True,\n",
    "    transform=transform,\n",
    ")\n",
    "\n",
    "train_loader = DataLoader(\n",
    "    train_data, \n",
    "    batch_size=batch_size, \n",
    "    shuffle=True\n",
    ")"
   ]
  },
  {
   "cell_type": "markdown",
   "metadata": {},
   "source": [
    "### Generator Network"
   ]
  },
  {
   "cell_type": "code",
   "execution_count": 4,
   "metadata": {},
   "outputs": [],
   "source": [
    "class GenNet(nn.Module):\n",
    "    def __init__(self, nz):\n",
    "        super(GenNet, self).__init__()\n",
    "        \n",
    "        self.linear1 = nn.Linear(nz, 256)\n",
    "        self.linear2 = nn.Linear(256, 512)\n",
    "        self.linear3 = nn.Linear(512, 1024)\n",
    "        self.linear4 = nn.Linear(1024, 784)\n",
    "    \n",
    "    def forward(self, x):\n",
    "        x = F.leaky_relu(self.linear1(x), 0.2)\n",
    "        x = F.leaky_relu(self.linear2(x), 0.2)\n",
    "        x = F.leaky_relu(self.linear3(x), 0.2)\n",
    "        x = torch.tanh(self.linear4(x))\n",
    "        \n",
    "        return x.view(-1, 1, 28, 28)"
   ]
  },
  {
   "cell_type": "markdown",
   "metadata": {},
   "source": [
    "### Discriminator Network"
   ]
  },
  {
   "cell_type": "code",
   "execution_count": 5,
   "metadata": {},
   "outputs": [],
   "source": [
    "class DisNet(nn.Module):\n",
    "    def __init__(self, in_size):\n",
    "        super(DisNet, self).__init__()\n",
    "        \n",
    "        self.linear1 = nn.Linear(in_size, 1024)\n",
    "        self.dropout1 = nn.Dropout(0.3)\n",
    "        \n",
    "        self.linear2 = nn.Linear(1024, 512)\n",
    "        self.dropout2 = nn.Dropout(0.3)\n",
    "        \n",
    "        self.linear3 = nn.Linear(512, 256)\n",
    "        self.dropout3 = nn.Dropout(0.3)\n",
    "        \n",
    "        self.linear4 = nn.Linear(256, 1)\n",
    "        \n",
    "    def forward(self, x):\n",
    "        x = x.view(-1, 784)\n",
    "        x = self.dropout1(F.leaky_relu(self.linear1(x), 0.2))\n",
    "        x = self.dropout2(F.leaky_relu(self.linear2(x), 0.2))\n",
    "        x = self.dropout3(F.leaky_relu(self.linear3(x), 0.2))\n",
    "        x = torch.sigmoid(self.linear4(x))\n",
    "        \n",
    "        return x "
   ]
  },
  {
   "cell_type": "code",
   "execution_count": 6,
   "metadata": {},
   "outputs": [],
   "source": [
    "generator = GenNet(nz).to(device)\n",
    "discriminator = DisNet(flatten_image_size).to(device)"
   ]
  },
  {
   "cell_type": "code",
   "execution_count": 7,
   "metadata": {},
   "outputs": [
    {
     "name": "stdout",
     "output_type": "stream",
     "text": [
      "GenNet(\n",
      "  (linear1): Linear(in_features=128, out_features=256, bias=True)\n",
      "  (linear2): Linear(in_features=256, out_features=512, bias=True)\n",
      "  (linear3): Linear(in_features=512, out_features=1024, bias=True)\n",
      "  (linear4): Linear(in_features=1024, out_features=784, bias=True)\n",
      ")\n",
      "DisNet(\n",
      "  (linear1): Linear(in_features=784, out_features=1024, bias=True)\n",
      "  (dropout1): Dropout(p=0.3, inplace=False)\n",
      "  (linear2): Linear(in_features=1024, out_features=512, bias=True)\n",
      "  (dropout2): Dropout(p=0.3, inplace=False)\n",
      "  (linear3): Linear(in_features=512, out_features=256, bias=True)\n",
      "  (dropout3): Dropout(p=0.3, inplace=False)\n",
      "  (linear4): Linear(in_features=256, out_features=1, bias=True)\n",
      ")\n"
     ]
    }
   ],
   "source": [
    "print(generator)\n",
    "print(discriminator)"
   ]
  },
  {
   "cell_type": "code",
   "execution_count": 8,
   "metadata": {},
   "outputs": [],
   "source": [
    "optim_gen = optim.Adam(generator.parameters(), lr=lr)\n",
    "optim_dis = optim.Adam(generator.parameters(), lr=lr)"
   ]
  },
  {
   "cell_type": "code",
   "execution_count": 9,
   "metadata": {},
   "outputs": [
    {
     "name": "stdout",
     "output_type": "stream",
     "text": [
      "Adam (\n",
      "Parameter Group 0\n",
      "    amsgrad: False\n",
      "    betas: (0.9, 0.999)\n",
      "    eps: 1e-08\n",
      "    lr: 0.001\n",
      "    weight_decay: 0\n",
      ")\n",
      "Adam (\n",
      "Parameter Group 0\n",
      "    amsgrad: False\n",
      "    betas: (0.9, 0.999)\n",
      "    eps: 1e-08\n",
      "    lr: 0.001\n",
      "    weight_decay: 0\n",
      ")\n"
     ]
    }
   ],
   "source": [
    "print(optim_gen)\n",
    "print(optim_gen)"
   ]
  },
  {
   "cell_type": "markdown",
   "metadata": {},
   "source": [
    "### Criterion"
   ]
  },
  {
   "cell_type": "code",
   "execution_count": 10,
   "metadata": {},
   "outputs": [],
   "source": [
    "criterion = nn.BCELoss()"
   ]
  },
  {
   "cell_type": "markdown",
   "metadata": {},
   "source": [
    "### Utils function"
   ]
  },
  {
   "cell_type": "code",
   "execution_count": 11,
   "metadata": {},
   "outputs": [],
   "source": [
    "def latent_vector(size, nz):\n",
    "    return torch.randn(size, nz).to(device)\n",
    "\n",
    "def make_dir(path=\"./output/images\"):\n",
    "    if not os.path.exists(path):\n",
    "        os.makedirs(path)     \n",
    "make_dir()\n",
    "\n",
    "def save_generator_image(image, path):\n",
    "    save_image(image, path)\n",
    "    \n",
    "def label_real(size):\n",
    "    data = torch.ones(size, 1)\n",
    "    return data.to(device)\n",
    "\n",
    "def label_fake(size):\n",
    "    data = torch.zeros(size, 1)\n",
    "    return data.to(device)"
   ]
  },
  {
   "cell_type": "code",
   "execution_count": null,
   "metadata": {},
   "outputs": [],
   "source": []
  },
  {
   "cell_type": "markdown",
   "metadata": {},
   "source": [
    "### Discriminator Training Function"
   ]
  },
  {
   "cell_type": "code",
   "execution_count": 12,
   "metadata": {},
   "outputs": [],
   "source": [
    "def train_discriminator(optim, real_data, fake_data):\n",
    "    b_size = real_data.size(0)\n",
    "\n",
    "    real_label = label_real(b_size)\n",
    "    fake_label = label_fake(b_size)\n",
    "    \n",
    "    optim.zero_grad()\n",
    "    \n",
    "    output_real = discriminator(real_data)\n",
    "    loss_real = criterion(output_real, real_label)\n",
    "\n",
    "    output_fake = discriminator(fake_data)\n",
    "    loss_fake = criterion(output_fake, fake_label)\n",
    "    \n",
    "    loss_real.backward()\n",
    "    loss_fake.backward()\n",
    "    \n",
    "    optim.step()\n",
    "    \n",
    "    total_loss = loss_real+loss_fake\n",
    "    \n",
    "    return total_loss"
   ]
  },
  {
   "cell_type": "markdown",
   "metadata": {},
   "source": [
    "### Generator Training Function"
   ]
  },
  {
   "cell_type": "code",
   "execution_count": 13,
   "metadata": {},
   "outputs": [],
   "source": [
    "def train_generator(optim, fake_data):\n",
    "    b_size = fake_data.size(0)\n",
    "    real_label = label_real(b_size)\n",
    "    \n",
    "    optim.zero_grad()\n",
    "    \n",
    "    output = discriminator(fake_data)\n",
    "    loss = criterion(output, real_label)\n",
    "    \n",
    "    loss.backward()\n",
    "    \n",
    "    optim.step()\n",
    "    \n",
    "    return loss"
   ]
  },
  {
   "cell_type": "markdown",
   "metadata": {},
   "source": [
    "### Training Loop"
   ]
  },
  {
   "cell_type": "code",
   "execution_count": 14,
   "metadata": {},
   "outputs": [],
   "source": [
    "losses_g = [] # to store generator loss after each epoch\n",
    "losses_d = [] # to store discriminator loss after each epoch\n",
    "images = [] # to store images generatd by the generator"
   ]
  },
  {
   "cell_type": "code",
   "execution_count": 15,
   "metadata": {},
   "outputs": [
    {
     "name": "stdout",
     "output_type": "stream",
     "text": [
      "1/2\n",
      "Generator Loss: 0.4461, Discriminator Loss: 1.7893\n",
      "2/2\n",
      "Generator Loss: 0.4349, Discriminator Loss: 1.8048\n"
     ]
    }
   ],
   "source": [
    "for epoch in range(epochs):\n",
    "    \n",
    "    loss_g = 0.0\n",
    "    loss_d = 0.0 \n",
    "    \n",
    "    for i, (image,_) in enumerate(train_loader):\n",
    "        image = image.to(device)\n",
    "        b_size = image.size(0)\n",
    "        noise = latent_vector(b_size, nz)\n",
    "        for step in range(k):\n",
    "            data_fake = generator(noise).detach()\n",
    "            data_real = image \n",
    "            \n",
    "            loss_d += train_discriminator(optim_dis, data_real, data_fake)\n",
    "            \n",
    "        data_fake = generator(noise)\n",
    "        loss_g += train_generator(optim_gen, data_fake)\n",
    "        \n",
    "    #create the final fake image for the epoch\n",
    "    generated_img = generator(latent_vector(sample_size, nz)).cpu().detach()\n",
    "    #make the images as grid\n",
    "    generated_img = make_grid(generated_img)\n",
    "    #Save the generated torch tensor models to disk \n",
    "    save_generator_image(generated_img, f\"./output/images/gen_img{epoch}.png\")\n",
    "    \n",
    "    images.append(generated_img)\n",
    "    \n",
    "    epoch_loss_g = loss_g/i\n",
    "    epoch_loss_d = loss_d/(i*k)\n",
    "    \n",
    "    losses_d.append(epoch_loss_d)\n",
    "    losses_g.append(epoch_loss_g)\n",
    "    \n",
    "    print(f\"{epoch+1}/{epochs}\")\n",
    "    print(f\"Generator Loss: {epoch_loss_g:.4f}, Discriminator Loss: {epoch_loss_d:.4f}\")\n",
    "    "
   ]
  },
  {
   "cell_type": "code",
   "execution_count": null,
   "metadata": {},
   "outputs": [],
   "source": []
  }
 ],
 "metadata": {
  "kernelspec": {
   "display_name": "Python 3",
   "language": "python",
   "name": "python3"
  },
  "language_info": {
   "codemirror_mode": {
    "name": "ipython",
    "version": 3
   },
   "file_extension": ".py",
   "mimetype": "text/x-python",
   "name": "python",
   "nbconvert_exporter": "python",
   "pygments_lexer": "ipython3",
   "version": "3.6.8"
  }
 },
 "nbformat": 4,
 "nbformat_minor": 4
}
